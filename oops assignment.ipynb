{
 "cells": [
  {
   "cell_type": "code",
   "execution_count": 1,
   "metadata": {},
   "outputs": [
    {
     "name": "stdout",
     "output_type": "stream",
     "text": [
      "Circle area: 78.5\n",
      "Rectangle area: 24\n"
     ]
    }
   ],
   "source": [
    "\"Create an abstract base class `Shape` with an abstract method `area()`. Then create two subclasses `Circle` and `Rectangle` that implement the `area()` method\"\n",
    "\n",
    "from abc import ABC, abstractmethod\n",
    "\n",
    "class Shape(ABC):\n",
    "    @abstractmethod\n",
    "    def area(self):\n",
    "        pass\n",
    "\n",
    "class Circle(Shape):\n",
    "    def __init__(self, radius):\n",
    "        self.radius = radius\n",
    "\n",
    "    def area(self):\n",
    "        return 3.14 * (self.radius ** 2)\n",
    "\n",
    "class Rectangle(Shape):\n",
    "    def __init__(self, length, width):\n",
    "        self.length = length\n",
    "        self.width = width\n",
    "\n",
    "    def area(self):\n",
    "        return self.length * self.width\n",
    "\n",
    "# Example usage\n",
    "circle = Circle(5)\n",
    "rectangle = Rectangle(4, 6)\n",
    "\n",
    "print(f\"Circle area: {circle.area()}\")  # Output: Circle area: 78.5\n",
    "print(f\"Rectangle area: {rectangle.area()}\")  # Output: Rectangle area: 24\n"
   ]
  },
  {
   "cell_type": "code",
   "execution_count": 8,
   "metadata": {},
   "outputs": [
    {
     "name": "stdout",
     "output_type": "stream",
     "text": [
      "Car Information: 2022 Toyota Camry\n"
     ]
    }
   ],
   "source": [
    "\"Write a Python class for a `Car` with attributes for `make`, `model`, and `year`. Include a method to display the car's information.\"\n",
    "\n",
    "class Car:\n",
    "    def __init__(self, make, model, year):\n",
    "        self.make = make\n",
    "        self.model = model\n",
    "        self.year = year\n",
    "\n",
    "    def display_info(self):\n",
    "        print(f\"Car Information: {self.year} {self.make} {self.model}\")\n",
    "\n",
    "# Example usage\n",
    "car = Car(\"Toyota\", \"Camry\", 2022)\n",
    "car.display_info()\n"
   ]
  },
  {
   "cell_type": "code",
   "execution_count": 2,
   "metadata": {},
   "outputs": [
    {
     "name": "stdout",
     "output_type": "stream",
     "text": [
      "The area of the shape is: 78.5\n",
      "The area of the shape is: 24\n"
     ]
    }
   ],
   "source": [
    "\"Demonstrate polymorphism by creating a function that can work with different shape objects to calculate and print their areas.\"\n",
    "\n",
    "from abc import ABC, abstractmethod\n",
    "\n",
    "class Shape(ABC):\n",
    "    @abstractmethod\n",
    "    def area(self):\n",
    "        pass\n",
    "\n",
    "class Circle(Shape):\n",
    "    def __init__(self, radius):\n",
    "        self.radius = radius\n",
    "\n",
    "    def area(self):\n",
    "        return 3.14 * (self.radius ** 2)\n",
    "\n",
    "class Rectangle(Shape):\n",
    "    def __init__(self, length, width):\n",
    "        self.length = length\n",
    "        self.width = width\n",
    "\n",
    "    def area(self):\n",
    "        return self.length * self.width\n",
    "\n",
    "# Function to demonstrate polymorphism\n",
    "def print_area(shapes):\n",
    "    for shape in shapes:\n",
    "        print(f\"The area of the shape is: {shape.area()}\")\n",
    "\n",
    "# Example usage\n",
    "shapes = [Circle(5), Rectangle(4, 6)]\n",
    "print_area(shapes)\n"
   ]
  },
  {
   "cell_type": "code",
   "execution_count": 3,
   "metadata": {},
   "outputs": [
    {
     "name": "stdout",
     "output_type": "stream",
     "text": [
      "Deposited: 500\n",
      "Withdrew: 200\n",
      "Balance: 1300\n",
      "Account Number: 1234567890\n"
     ]
    }
   ],
   "source": [
    "\" Implement encapsulation in a `BankAccount` class with private attributes for `balance` and account_number`. Include methods for deposit, withdrawal, and balance inquiry\"\n",
    "\n",
    "class BankAccount:\n",
    "    def __init__(self, account_number, initial_balance=0):\n",
    "        self.__account_number = account_number  # Private attribute\n",
    "        self.__balance = initial_balance  # Private attribute\n",
    "\n",
    "    def deposit(self, amount):\n",
    "        if amount > 0:\n",
    "            self.__balance += amount\n",
    "            print(f\"Deposited: {amount}\")\n",
    "        else:\n",
    "            print(\"Deposit amount must be positive\")\n",
    "\n",
    "    def withdraw(self, amount):\n",
    "        if amount > 0:\n",
    "            if self.__balance >= amount:\n",
    "                self.__balance -= amount\n",
    "                print(f\"Withdrew: {amount}\")\n",
    "            else:\n",
    "                print(\"Insufficient balance\")\n",
    "        else:\n",
    "            print(\"Withdrawal amount must be positive\")\n",
    "\n",
    "    def get_balance(self):\n",
    "        return self.__balance\n",
    "\n",
    "    def get_account_number(self):\n",
    "        return self.__account_number\n",
    "\n",
    "# Example usage\n",
    "account = BankAccount(\"1234567890\", 1000)\n",
    "account.deposit(500)   # Output: Deposited: 500\n",
    "account.withdraw(200)  # Output: Withdrew: 200\n",
    "print(f\"Balance: {account.get_balance()}\")  # Output: Balance: 1300\n",
    "print(f\"Account Number: {account.get_account_number()}\")  # Output: Account Number: 1234567890\n"
   ]
  },
  {
   "cell_type": "code",
   "execution_count": 4,
   "metadata": {},
   "outputs": [
    {
     "name": "stdout",
     "output_type": "stream",
     "text": [
      "Vector(2, 3)\n",
      "Vector(4, 5)\n",
      "Vector(6, 8)\n"
     ]
    }
   ],
   "source": [
    "\"Write a class that overrides the `__str__` and `__add__` magic methods. What will these methods allow you to do?\"\n",
    "\n",
    "class Vector:\n",
    "    def __init__(self, x, y):\n",
    "        self.x = x\n",
    "        self.y = y\n",
    "\n",
    "    def __str__(self):\n",
    "        return f\"Vector({self.x}, {self.y})\"\n",
    "\n",
    "    def __add__(self, other):\n",
    "        if isinstance(other, Vector):\n",
    "            return Vector(self.x + other.x, self.y + other.y)\n",
    "        return NotImplemented\n",
    "\n",
    "# Example usage\n",
    "v1 = Vector(2, 3)\n",
    "v2 = Vector(4, 5)\n",
    "v3 = v1 + v2\n",
    "\n",
    "print(v1)  # Output: Vector(2, 3)\n",
    "print(v2)  # Output: Vector(4, 5)\n",
    "print(v3)  # Output: Vector(6, 8)\n"
   ]
  },
  {
   "cell_type": "code",
   "execution_count": 5,
   "metadata": {},
   "outputs": [
    {
     "name": "stdout",
     "output_type": "stream",
     "text": [
      "Execution time: 0.2066 seconds\n"
     ]
    },
    {
     "data": {
      "text/plain": [
       "499999500000"
      ]
     },
     "execution_count": 5,
     "metadata": {},
     "output_type": "execute_result"
    }
   ],
   "source": [
    "\"Create a decorator that measures and prints the execution time of a function\"\n",
    "\n",
    "import time\n",
    "\n",
    "def measure_time(func):\n",
    "    def wrapper(*args, **kwargs):\n",
    "        start_time = time.time()\n",
    "        result = func(*args, **kwargs)\n",
    "        end_time = time.time()\n",
    "        execution_time = end_time - start_time\n",
    "        print(f\"Execution time: {execution_time:.4f} seconds\")\n",
    "        return result\n",
    "    return wrapper\n",
    "\n",
    "# Example usage\n",
    "@measure_time\n",
    "def example_function(n):\n",
    "    sum = 0\n",
    "    for i in range(n):\n",
    "        sum += i\n",
    "    return sum\n",
    "\n",
    "# Call the function\n",
    "example_function(1000000)\n"
   ]
  },
  {
   "cell_type": "code",
   "execution_count": 6,
   "metadata": {},
   "outputs": [
    {
     "name": "stdout",
     "output_type": "stream",
     "text": [
      "3\n"
     ]
    }
   ],
   "source": [
    "\"Write a class method that keeps track of the number of instances created from a class.\"\n",
    "\n",
    "class MyClass:\n",
    "    instance_count = 0  # Class-level attribute to keep track of instances\n",
    "\n",
    "    def __init__(self):\n",
    "        MyClass.instance_count += 1\n",
    "\n",
    "    @classmethod\n",
    "    def get_instance_count(cls):\n",
    "        return cls.instance_count\n",
    "\n",
    "# Example usage\n",
    "obj1 = MyClass()\n",
    "obj2 = MyClass()\n",
    "obj3 = MyClass()\n",
    "\n",
    "print(MyClass.get_instance_count())  # Output: 3\n"
   ]
  },
  {
   "cell_type": "code",
   "execution_count": 7,
   "metadata": {},
   "outputs": [
    {
     "name": "stdout",
     "output_type": "stream",
     "text": [
      "True\n",
      "False\n",
      "True\n",
      "False\n"
     ]
    }
   ],
   "source": [
    "\"15. Implement a static method in a class that checks if a given year is a leap year.\"\n",
    "\n",
    "class Calendar:\n",
    "    @staticmethod\n",
    "    def is_leap_year(year):\n",
    "        if (year % 4 == 0 and year % 100 != 0) or (year % 400 == 0):\n",
    "            return True\n",
    "        else:\n",
    "            return False\n",
    "\n",
    "# Example usage\n",
    "print(Calendar.is_leap_year(2024))  # Output: True\n",
    "print(Calendar.is_leap_year(2023))  # Output: False\n",
    "print(Calendar.is_leap_year(2000))  # Output: True\n",
    "print(Calendar.is_leap_year(1900))  # Output: False\n"
   ]
  }
 ],
 "metadata": {
  "kernelspec": {
   "display_name": "Python 3",
   "language": "python",
   "name": "python3"
  },
  "language_info": {
   "codemirror_mode": {
    "name": "ipython",
    "version": 3
   },
   "file_extension": ".py",
   "mimetype": "text/x-python",
   "name": "python",
   "nbconvert_exporter": "python",
   "pygments_lexer": "ipython3",
   "version": "3.12.6"
  }
 },
 "nbformat": 4,
 "nbformat_minor": 2
}
